{
 "cells": [
  {
   "cell_type": "code",
   "execution_count": 2,
   "metadata": {
    "collapsed": true
   },
   "outputs": [],
   "source": [
    "%matplotlib inline\n",
    "import numpy as np\n",
    "import matplotlib.pyplot as plt"
   ]
  },
  {
   "cell_type": "markdown",
   "metadata": {},
   "source": [
    "# Functions"
   ]
  },
  {
   "cell_type": "code",
   "execution_count": 3,
   "metadata": {
    "collapsed": false
   },
   "outputs": [],
   "source": [
    "# Compute Cost\n",
    "\n",
    "def computeCost(X_vals, Y_vals, theta):\n",
    "    J = 0\n",
    "    m = Y_vals.size\n",
    "    \n",
    "    # Theta transpose times X\n",
    "    h = X_vals.dot(theta)\n",
    "    \n",
    "    # Squared error\n",
    "    SEs = np.square(h-Y_vals)\n",
    "    \n",
    "    #J\n",
    "    J = (sum(SEs)[0])/(2*m)\n",
    "    return J"
   ]
  },
  {
   "cell_type": "code",
   "execution_count": 4,
   "metadata": {
    "collapsed": true
   },
   "outputs": [],
   "source": [
    "# Gradient Descent\n",
    "\n",
    "def gradientDescent(X, Y, theta, alpha, iterations):\n",
    "    Js = np.zeros(iterations)\n",
    "    m = Y.size\n",
    "    \n",
    "    for i in range(0,iterations):\n",
    "        h = X.dot(theta)\n",
    "        theta = theta - (X.T.dot(h-Y))*(alpha/m)\n",
    "        Js[i] = computeCost(X,Y,theta)\n",
    "        \n",
    "    return (Js, theta)\n",
    "    "
   ]
  },
  {
   "cell_type": "code",
   "execution_count": 5,
   "metadata": {
    "collapsed": false
   },
   "outputs": [],
   "source": [
    "def normalize(X):\n",
    "    X_norm = X.copy()\n",
    "    mus, sds = [], []\n",
    "    for i in range(1, X.shape[1]):\n",
    "        curr_X = X[:,i]\n",
    "        mu = np.mean(X)\n",
    "        mus.append(mu)\n",
    "        sd = np.std(X)\n",
    "        sds.append(sd)\n",
    "        X_norm[:,i] = (curr_X-mu)/sd\n",
    "    return (X_norm, mus, sds)\n"
   ]
  },
  {
   "cell_type": "markdown",
   "metadata": {},
   "source": [
    "# Univariate"
   ]
  },
  {
   "cell_type": "code",
   "execution_count": 6,
   "metadata": {
    "collapsed": false
   },
   "outputs": [
    {
     "data": {
      "text/plain": [
       "<matplotlib.text.Text at 0x108b27650>"
      ]
     },
     "execution_count": 6,
     "metadata": {},
     "output_type": "execute_result"
    },
    {
     "data": {
      "image/png": "[encoded data removed]",
      "text/plain": [
       "<matplotlib.figure.Figure at 0x108afd910>"
      ]
     },
     "metadata": {},
     "output_type": "display_data"
    }
   ],
   "source": [
    "# 1: LOAD DATA FOR UNIVARIATE LR\n",
    "datafile = 'ex1data1.txt'\n",
    "cols = np.loadtxt(datafile,delimiter=',',unpack=True)\n",
    "X = np.transpose(np.array(cols[:-1]))\n",
    "# add 1's\n",
    "X = np.insert(X,0,1,axis=1)\n",
    "Y = np.transpose(np.array(cols[-1:]))\n",
    "\n",
    "# 2: SCATTERPLOT\n",
    "plt.scatter(X[:,1],Y)\n",
    "plt.xlabel(\"Population of City in 10000s\")\n",
    "plt.ylabel(\"Profit in $10000s\")"
   ]
  },
  {
   "cell_type": "code",
   "execution_count": 76,
   "metadata": {
    "collapsed": false
   },
   "outputs": [
    {
     "name": "stdout",
     "output_type": "stream",
     "text": [
      "32.0727338775\n",
      "[[-3.63029144]\n",
      " [ 1.16636235]]\n"
     ]
    },
    {
     "data": {
      "text/plain": [
       "<matplotlib.text.Text at 0x1105f1d10>"
      ]
     },
     "execution_count": 76,
     "metadata": {},
     "output_type": "execute_result"
    },
    {
     "data": {
      "image/png": "[encoded data removed]",
      "text/plain": [
       "<matplotlib.figure.Figure at 0x11068a250>"
      ]
     },
     "metadata": {},
     "output_type": "display_data"
    }
   ],
   "source": [
    "# 3: INITIALIZE VARIABLES/TEST\n",
    "theta = [[0],[0]]\n",
    "iterations = 1500\n",
    "alpha = .01\n",
    "\n",
    "print computeCost(X,Y,theta)\n",
    "(Js, theta) = gradientDescent(X, Y, theta, alpha, iterations)\n",
    "print theta\n",
    "\n",
    "# 4: PLOT J\n",
    "plt.plot(Js)\n",
    "plt.xlabel('Iterations')\n",
    "plt.ylabel('Value of Cost Function')"
   ]
  },
  {
   "cell_type": "markdown",
   "metadata": {},
   "source": [
    "# Multivariate"
   ]
  },
  {
   "cell_type": "code",
   "execution_count": 7,
   "metadata": {
    "collapsed": false
   },
   "outputs": [
    {
     "name": "stdout",
     "output_type": "stream",
     "text": [
      "[ 293015.80453818]\n"
     ]
    }
   ],
   "source": [
    "# 1: LOAD DATA FOR MULTIVARIATE LR\n",
    "datafile = 'ex1data2.txt'\n",
    "cols = np.loadtxt(datafile,delimiter=',',unpack=True) #Read in comma separated data\n",
    "X = np.transpose(np.array(cols[:-1]))\n",
    "# add 1's\n",
    "X = np.insert(X,0,1,axis=1)\n",
    "Y = np.transpose(np.array(cols[-1:]))\n",
    "\n",
    "# 2: INITIALIZE VARIABLES/TEST\n",
    "theta = [[0],[0],[0]]\n",
    "iterations = 1500\n",
    "alpha = .01\n",
    "\n",
    "# Normalize X\n",
    "X_norm, mus, sds = normalize(X)\n",
    "(Js, theta) = gradientDescent(X_norm, Y, theta, alpha, iterations)\n",
    "\n",
    "# 3: TEST VALUE\n",
    "ytest = np.array([1650, 3.0])\n",
    "ytest_scaled = [(ytest[x]-mus[x])/sds[x] for x in xrange(len(ytest))]\n",
    "ytest_scaled.insert(0,1)\n",
    "print np.dot(ytest_scaled,theta)"
   ]
  },
  {
   "cell_type": "code",
   "execution_count": 8,
   "metadata": {
    "collapsed": false
   },
   "outputs": [
    {
     "data": {
      "text/plain": [
       "<matplotlib.text.Text at 0x10ddf3850>"
      ]
     },
     "execution_count": 8,
     "metadata": {},
     "output_type": "execute_result"
    },
    {
     "data": {
      "image/png": "[encoded data removed]",
      "text/plain": [
       "<matplotlib.figure.Figure at 0x10de158d0>"
      ]
     },
     "metadata": {},
     "output_type": "display_data"
    }
   ],
   "source": [
    "# 4: PLOT J\n",
    "plt.plot(Js)\n",
    "plt.xlabel('Iterations')\n",
    "plt.ylabel('Value of Cost Function')"
   ]
  },
  {
   "cell_type": "code",
   "execution_count": 9,
   "metadata": {
    "collapsed": false
   },
   "outputs": [
    {
     "name": "stdout",
     "output_type": "stream",
     "text": [
      "[ 293081.46433489]\n"
     ]
    }
   ],
   "source": [
    "from numpy.linalg import inv\n",
    "\n",
    "# Normal Equation\n",
    "def normEquation(X,Y):\n",
    "    return np.dot(np.dot(inv(np.dot(X.T,X)),X.T),Y)\n",
    "\n",
    "\n",
    "ytest_norm = np.array([1,1650, 3.0])\n",
    "print np.dot(ytest_norm,normEquation(X,Y))\n"
   ]
  },
  {
   "cell_type": "code",
   "execution_count": null,
   "metadata": {
    "collapsed": true
   },
   "outputs": [],
   "source": []
  }
 ],
 "metadata": {
  "anaconda-cloud": {},
  "kernelspec": {
   "display_name": "Python [default]",
   "language": "python",
   "name": "python2"
  },
  "language_info": {
   "codemirror_mode": {
    "name": "ipython",
    "version": 2
   },
   "file_extension": ".py",
   "mimetype": "text/x-python",
   "name": "python",
   "nbconvert_exporter": "python",
   "pygments_lexer": "ipython2",
   "version": "2.7.12"
  }
 },
 "nbformat": 4,
 "nbformat_minor": 1
}
