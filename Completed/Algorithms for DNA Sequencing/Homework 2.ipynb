{
 "cells": [
  {
   "cell_type": "code",
   "execution_count": null,
   "metadata": {
    "collapsed": true
   },
   "outputs": [],
   "source": [
    "# Implement naive/BM algorithms that count and return \n",
    "    # of character comparisons performed\n",
    "    # of alignments tried"
   ]
  },
  {
   "cell_type": "code",
   "execution_count": null,
   "metadata": {
    "collapsed": false
   },
   "outputs": [],
   "source": [
    "# Naive\n",
    "def naive_with_counts(p, t):\n",
    "    occurrences = []\n",
    "    char_comparisons = 0\n",
    "    num_alignments = 0\n",
    "    # Loop through alignments\n",
    "    for i in range(len(t) - len(p) + 1):\n",
    "        num_alignments += 1\n",
    "        match = True\n",
    "        # Loop through characters\n",
    "        for j in range(len(p)):\n",
    "            char_comparisons +=1\n",
    "            if t[i+j] != p[j]:\n",
    "                match = False\n",
    "                break\n",
    "        if match:\n",
    "          occurrences.append(i)\n",
    "    return occurrences, num_alignments, char_comparisons\n",
    "\n",
    "p = 'word'\n",
    "t = 'there would have been a time for such a word'\n",
    "occurrences, num_alignments, num_character_comparisons = naive_with_counts(p, t)\n",
    "print(occurrences, num_alignments, num_character_comparisons)\n",
    "\n",
    "p = 'needle'\n",
    "t = 'needle need noodle needle'\n",
    "occurrences, num_alignments, num_character_comparisons = naive_with_counts(p, t)\n",
    "print(occurrences, num_alignments, num_character_comparisons)"
   ]
  },
  {
   "cell_type": "code",
   "execution_count": null,
   "metadata": {
    "collapsed": false
   },
   "outputs": [],
   "source": [
    "# Boyer-Moore\n",
    "from bm_preproc import BoyerMoore\n",
    "\n",
    "def boyer_moore_with_counts(p, p_bm, t):\n",
    "    \"\"\" Do Boyer-Moore matching \"\"\"\n",
    "    i = 0\n",
    "    occurrences = []\n",
    "    char_comparisons = 0\n",
    "    num_alignments = 0\n",
    "    while i < len(t) - len(p) + 1:\n",
    "        num_alignments += 1\n",
    "        shift = 1\n",
    "        mismatched = False\n",
    "        for j in range(len(p)-1, -1, -1):\n",
    "            char_comparisons +=1\n",
    "            if p[j] != t[i+j]:\n",
    "                skip_bc = p_bm.bad_character_rule(j, t[i+j])\n",
    "                skip_gs = p_bm.good_suffix_rule(j)\n",
    "                shift = max(shift, skip_bc, skip_gs)\n",
    "                mismatched = True\n",
    "                break\n",
    "        if not mismatched:\n",
    "            occurrences.append(i)\n",
    "            skip_gs = p_bm.match_skip()\n",
    "            shift = max(shift, skip_gs)\n",
    "        i += shift\n",
    "    return occurrences, num_alignments, char_comparisons\n",
    "\n",
    "p = 'word'\n",
    "t = 'there would have been a time for such a word'\n",
    "lowercase_alphabet = 'abcdefghijklmnopqrstuvwxyz '\n",
    "p_bm = BoyerMoore(p, lowercase_alphabet)\n",
    "occurrences, num_alignments, num_character_comparisons = boyer_moore_with_counts(p, p_bm, t)\n",
    "print(occurrences, num_alignments, num_character_comparisons)\n",
    "\n",
    "p = 'needle'\n",
    "t = 'needle need noodle needle'\n",
    "p_bm = BoyerMoore(p, lowercase_alphabet)\n",
    "occurrences, num_alignments, num_character_comparisons = boyer_moore_with_counts(p, p_bm, t)\n",
    "print(occurrences, num_alignments, num_character_comparisons)"
   ]
  },
  {
   "cell_type": "code",
   "execution_count": null,
   "metadata": {
    "collapsed": false
   },
   "outputs": [],
   "source": [
    "# Quiz\n",
    "\n",
    "def readGenome(filename):\n",
    "    genome = ''\n",
    "    with open(filename, 'r') as f:\n",
    "        for line in f:\n",
    "            if not line[0] == '>':\n",
    "                genome += line.rstrip()\n",
    "    return genome\n",
    "\n",
    "genome = readGenome('chr1.GRCh38.excerpt.fasta')\n",
    "test = 'GGCGCGGTGGCTCACGCCTGTAATCCCAGCACTTTGGGAGGCCGAGG'\n",
    "\n",
    "# 1: How many alignments does naive try w/ test? - 799954\n",
    "# 2: How many character comparisons? - 984143\n",
    "occurrences, num_alignments, num_character_comparisons = naive_with_counts(test, genome)\n",
    "print num_alignments, num_character_comparisons\n",
    "\n",
    "# 3: How many aligments does BM try? - 127974 165191\n",
    "lowercase_alphabet = 'abcdefghijklmnopqrstuvwxyz '\n",
    "p_bm = BoyerMoore(test)\n",
    "occurrences, num_alignments, num_character_comparisons = boyer_moore_with_counts(test, p_bm, genome)\n",
    "print num_alignments, num_character_comparisons"
   ]
  },
  {
   "cell_type": "code",
   "execution_count": null,
   "metadata": {
    "collapsed": false
   },
   "outputs": [],
   "source": [
    "import bisect \n",
    "class Index(object):\n",
    "    def __init__(self, t, k):\n",
    "        ''' Create index from all substrings of size 'length' '''\n",
    "        self.k = k  # k-mer length (k)\n",
    "        self.index = []\n",
    "        for i in range(len(t) - k + 1):  # for each k-mer\n",
    "            self.index.append((t[i:i+k], i))  # add (k-mer, offset) pair\n",
    "        self.index.sort()  # alphabetize by k-mer\n",
    "    \n",
    "    def query(self, p):\n",
    "        ''' Return index hits for first k-mer of P '''\n",
    "        kmer = p[:self.k]  # query with first k-mer\n",
    "        i = bisect.bisect_left(self.index, (kmer, -1))  # binary search\n",
    "        hits = []\n",
    "        while i < len(self.index):  # collect matching index entries\n",
    "            if self.index[i][0] != kmer:\n",
    "                break\n",
    "            hits.append(self.index[i][1])\n",
    "            i += 1\n",
    "        return hits\n",
    "\n",
    "def queryIndex(p, t, index):\n",
    "    k = index.k\n",
    "    offsets = []\n",
    "    for i in index.query(p):\n",
    "        if p[k:] == t[i+k:i+len(p)]:\n",
    "            offsets.append(i)\n",
    "    return offsets\n",
    "\n",
    "def approximate_match(p, t, n):\n",
    "    index = Index(t, 8)\n",
    "    index_hits = 0\n",
    "    segment_length = int(round(len(p) / (n+1)))\n",
    "    all_matches = set()\n",
    "    for i in range(n+1):\n",
    "        start = i*segment_length\n",
    "        # in case you have a weird end\n",
    "        end = min((i+1)*segment_length, len(p))\n",
    "        matches = queryIndex(p[start:end], t, index)\n",
    "        index_hits += len(matches)\n",
    "        #p_bm = BoyerMoore(p[start:end], alphabet='ACGT')\n",
    "        #matches = boyer_moore(p[start:end], p_bm, t)\n",
    "        \n",
    "        # Extend matching segments to see if whole p matches\n",
    "        for m in matches:\n",
    "            if m < start or m-start+len(p) > len(t):\n",
    "                continue\n",
    "            mismatches = 0\n",
    "            for j in range(0, start):\n",
    "                if not p[j] == t[m-start+j]:\n",
    "                    mismatches += 1\n",
    "                    if mismatches > n:\n",
    "                        break\n",
    "            for j in range(end, len(p)):\n",
    "                if not p[j] == t[m-start+j]:\n",
    "                    mismatches += 1\n",
    "                    if mismatches > n:\n",
    "                        break\n",
    "            if mismatches <= n:\n",
    "                all_matches.add(m - start)\n",
    "    return list(all_matches), index_hits\n",
    "\n",
    "\n",
    "\n",
    "p = 'GGCGCGGTGGCTCACGCCTGTAAT'\n",
    "t = readGenome('chr1.GRCh38.excerpt.fasta')\n",
    "hits, index_hits = approximate_match(p, t, 2)\n",
    "# 4 - 19\n",
    "print len(hits)\n",
    "# 5 - 90\n",
    "print index_hits\n",
    "# Implement PP using Index to find exact mathces for partitions\n",
    "# P always has length 24, looking for approx matches with 2 mismatches, 8-mer index"
   ]
  },
  {
   "cell_type": "code",
   "execution_count": 53,
   "metadata": {
    "collapsed": false
   },
   "outputs": [
    {
     "name": "stdout",
     "output_type": "stream",
     "text": [
      "([0, 14], 6)\n",
      "[135249]\n",
      "3\n"
     ]
    }
   ],
   "source": [
    "# 6\n",
    "import bisect\n",
    "   \n",
    "class SubseqIndex(object):\n",
    "    \"\"\" Holds a subsequence index for a text T \"\"\"\n",
    "    \n",
    "    def __init__(self, t, k, ival):\n",
    "        \"\"\" Create index from all subsequences consisting of k characters\n",
    "            spaced ival positions apart.  E.g., SubseqIndex(\"ATAT\", 2, 2)\n",
    "            extracts (\"AA\", 0) and (\"TT\", 1). \"\"\"\n",
    "        self.k = k  # num characters per subsequence extracted\n",
    "        self.ival = ival  # space between them; 1=adjacent, 2=every other, etc\n",
    "        self.index = []\n",
    "        self.span = 1 + ival * (k - 1)\n",
    "        for i in range(len(t) - self.span + 1):  # for each subseq\n",
    "            self.index.append((t[i:i+self.span:ival], i))  # add (subseq, offset)\n",
    "        self.index.sort()  # alphabetize by subseq\n",
    "    \n",
    "    def query(self, p):\n",
    "        \"\"\" Return index hits for first subseq of p \"\"\"\n",
    "        subseq = p[:self.span:self.ival]  # query with first subseq\n",
    "        i = bisect.bisect_left(self.index, (subseq, -1))  # binary search\n",
    "        hits = []\n",
    "        while i < len(self.index):  # collect matching index entries\n",
    "            if self.index[i][0] != subseq:\n",
    "                break\n",
    "            hits.append(self.index[i][1])\n",
    "            i += 1\n",
    "        return hits\n",
    "\n",
    "def query_subseq(p, t, index):\n",
    "    k = index.k\n",
    "    offsets = []\n",
    "    num_index_hits = 0\n",
    "    for j in range(0, 3):\n",
    "        for i in index.query(p[j:]):\n",
    "            num_index_hits += 1\n",
    "            if p[k:] == t[i+k:i+len(p)]:\n",
    "                offsets.append(i)\n",
    "    return offsets, num_index_hits\n",
    "\n",
    "t = 'to-morrow and to-morrow and to-morrow creeps in this petty pace'\n",
    "p = 'to-morrow and to-morrow '\n",
    "subseq_ind = SubseqIndex(t, 8, 3)\n",
    "\n",
    "\n",
    "occurrences, num_index_hits = query_subseq(p, t, subseq_ind)\n",
    "print(occurrences, num_index_hits)\n",
    "\n",
    "t = open('1110.txt.utf-8').read()\n",
    "p = 'English measure backward'\n",
    "subseq_ind = SubseqIndex(t, 8, 3)\n",
    "\n",
    "occurrences, num_index_hits = query_subseq(p, t, subseq_ind)\n",
    "print(occurrences)\n",
    "print(num_index_hits)\n",
    "# Write a function that, given a length-24 pattern P \n",
    "# and given a 𝚂𝚞𝚋𝚜𝚎𝚚𝙸𝚗𝚍𝚎𝚡 object built with k = 8 and ival = 3 \n",
    "# finds all approximate occurrences of P within T with up to 2 mismatches."
   ]
  },
  {
   "cell_type": "code",
   "execution_count": 55,
   "metadata": {
    "collapsed": false
   },
   "outputs": [
    {
     "name": "stdout",
     "output_type": "stream",
     "text": [
      "[56922, 262042, 273669, 364263, 465647, 657496, 717706]\n",
      "79\n"
     ]
    }
   ],
   "source": [
    "p = 'GGCGCGGTGGCTCACGCCTGTAAT'\n",
    "t = readGenome('chr1.GRCh38.excerpt.fasta')\n",
    "subseq_ind = SubseqIndex(t, 8, 3)\n",
    "\n",
    "occurrences, num_index_hits = query_subseq(p, t, subseq_ind)\n",
    "print(occurrences)\n",
    "print(num_index_hits)"
   ]
  },
  {
   "cell_type": "code",
   "execution_count": null,
   "metadata": {
    "collapsed": false
   },
   "outputs": [],
   "source": [
    "# ANSWERS:\n",
    "# 1: 799954\n",
    "# 2: 984143\n",
    "# 3: 127974\n",
    "# 4: 19\n",
    "# 5: 90\n",
    "# 6: 79"
   ]
  },
  {
   "cell_type": "code",
   "execution_count": null,
   "metadata": {
    "collapsed": true
   },
   "outputs": [],
   "source": []
  }
 ],
 "metadata": {
  "kernelspec": {
   "display_name": "Python [default]",
   "language": "python",
   "name": "python2"
  },
  "language_info": {
   "codemirror_mode": {
    "name": "ipython",
    "version": 2
   },
   "file_extension": ".py",
   "mimetype": "text/x-python",
   "name": "python",
   "nbconvert_exporter": "python",
   "pygments_lexer": "ipython2",
   "version": "2.7.12"
  }
 },
 "nbformat": 4,
 "nbformat_minor": 1
}
