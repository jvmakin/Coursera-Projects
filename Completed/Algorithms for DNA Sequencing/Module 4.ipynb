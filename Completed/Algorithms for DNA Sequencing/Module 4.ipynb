{
 "cells": [
  {
   "cell_type": "code",
   "execution_count": 1,
   "metadata": {
    "collapsed": false
   },
   "outputs": [
    {
     "name": "stderr",
     "output_type": "stream",
     "text": [
      "ERROR:root:Line magic function `%install_ext` not found.\n"
     ]
    }
   ],
   "source": [
    "% install_ext https://raw.github.com/cjdrake/ipython-magic/master/gvmagic.py"
   ]
  },
  {
   "cell_type": "code",
   "execution_count": null,
   "metadata": {
    "collapsed": true
   },
   "outputs": [],
   "source": [
    "def de_bruijn_ize(st, k):\n",
    "    edges = []\n",
    "    nodes = set()\n",
    "    for i in range(len(st) - k + 1):\n",
    "        edges.append((st[i:i+k-1], st[i+1:i+k]))\n",
    "        nodes.add(st[i:i+k-1])\n",
    "        nodes.add(st[i+1:i+k])\n",
    "    return nodes, edges\n",
    "\n",
    "nodes, edges = de_bruijn_ize(\"ACGCGTCG\", 3)\n",
    "\n",
    "def visualize_de_bruijn(st, k):\n",
    "    \"\"\" Visualize a directed multigraph using graphviz \"\"\"\n",
    "    nodes, edges = de_bruijn_ize(st, k)\n",
    "    dot_str = 'digraph \"DeBruijn graph\" {\\n'\n",
    "    for node in nodes:\n",
    "        dot_str += '  %s [label=\"%s\"] ;\\n' % (node, node)\n",
    "    for src, dst in edges:\n",
    "        dot_str += '  %s -> %s ;\\n' % (src, dst)\n",
    "    return dot_str + '}\\n'"
   ]
  }
 ],
 "metadata": {
  "anaconda-cloud": {},
  "kernelspec": {
   "display_name": "Python [default]",
   "language": "python",
   "name": "python2"
  },
  "language_info": {
   "codemirror_mode": {
    "name": "ipython",
    "version": 2
   },
   "file_extension": ".py",
   "mimetype": "text/x-python",
   "name": "python",
   "nbconvert_exporter": "python",
   "pygments_lexer": "ipython2",
   "version": "2.7.12"
  }
 },
 "nbformat": 4,
 "nbformat_minor": 1
}
